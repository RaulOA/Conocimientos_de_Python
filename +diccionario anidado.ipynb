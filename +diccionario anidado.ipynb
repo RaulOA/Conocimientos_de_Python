{
 "cells": [
  {
   "cell_type": "markdown",
   "metadata": {},
   "source": [
    "Diccionarios anidados"
   ]
  },
  {
   "cell_type": "markdown",
   "metadata": {},
   "source": [
    "Añadir clave y valor a un diccionario ya definido"
   ]
  },
  {
   "cell_type": "code",
   "execution_count": 10,
   "metadata": {},
   "outputs": [
    {
     "name": "stdout",
     "output_type": "stream",
     "text": [
      "{'7-1': [{'1-1537-0036': ['Ronald', 'Arias FAllas']}, {'1-1111-1111': ['Raul', 'asd ssss']}]}\n"
     ]
    }
   ],
   "source": [
    "def append_value(Diccionario, Clave, Valor):\n",
    "    if Clave in Diccionario:\n",
    "        # Compruebe si el tipo de valor de la clave es una lista o no\n",
    "        if not isinstance(Diccionario[Clave], list):\n",
    "            # Si el tipo no es una lista, hazlo una lista\n",
    "            Diccionario[Clave] = [Diccionario[Clave]]\n",
    "        Diccionario[Clave].append(Valor)\n",
    "    else:\n",
    "        Diccionario[Clave] = Valor\n",
    "Datos = {\"7-1\": {\"1-1537-0036\":[\"Ronald\",\"Arias FAllas\"]}}\n",
    "append_value(Datos, '7-1', {\"1-1111-1111\":[\"Raul\",\"asd ssss\"]})\n",
    "print(Datos)"
   ]
  },
  {
   "cell_type": "markdown",
   "metadata": {},
   "source": [
    "Recorrer un diccionario anidado con una sola clave"
   ]
  },
  {
   "cell_type": "code",
   "execution_count": 11,
   "metadata": {},
   "outputs": [
    {
     "name": "stdout",
     "output_type": "stream",
     "text": [
      "206780934 raul ortega\n"
     ]
    }
   ],
   "source": [
    "secciones1={'10-1': {'206780934': ['raul', 'ortega']}}\n",
    "for a,b in secciones1['10-1'].items():\n",
    "    print(a,b[0],b[1])"
   ]
  },
  {
   "cell_type": "markdown",
   "metadata": {},
   "source": [
    "Recorrer un diccionario anidado con varias claves"
   ]
  },
  {
   "cell_type": "code",
   "execution_count": 12,
   "metadata": {},
   "outputs": [
    {
     "name": "stdout",
     "output_type": "stream",
     "text": [
      "10-1\n",
      "{'10-1': [{'0001': ['raul', 'ortega']}, {'0002': ['luis', 'armando']}, {'0003': ['david', 'solis']}]}\n"
     ]
    }
   ],
   "source": [
    "secciones2={'10-1':[{'0001': ['raul', 'ortega']},{'0002': ['luis', 'armando']},{'0003': ['david', 'solis']}]}\n",
    "for a in secciones2.keys():\n",
    "    print(a)"
   ]
  }
 ],
 "metadata": {
  "interpreter": {
   "hash": "f95b24e7e6bd588e1e57de6300475645bdeabfdd1f807dc57a765782ae4c35d8"
  },
  "kernelspec": {
   "display_name": "Python 3.9.6 64-bit",
   "language": "python",
   "name": "python3"
  },
  "language_info": {
   "codemirror_mode": {
    "name": "ipython",
    "version": 3
   },
   "file_extension": ".py",
   "mimetype": "text/x-python",
   "name": "python",
   "nbconvert_exporter": "python",
   "pygments_lexer": "ipython3",
   "version": "3.9.6"
  },
  "orig_nbformat": 4
 },
 "nbformat": 4,
 "nbformat_minor": 2
}

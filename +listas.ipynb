{
 "cells": [
  {
   "cell_type": "markdown",
   "metadata": {},
   "source": [
    "# Listas y Metodos"
   ]
  },
  {
   "cell_type": "markdown",
   "metadata": {},
   "source": [
    "Declarar Lista"
   ]
  },
  {
   "cell_type": "code",
   "execution_count": 1,
   "metadata": {},
   "outputs": [
    {
     "name": "stdout",
     "output_type": "stream",
     "text": [
      "[['uno', ['dos', 'tres']], 3, 4, 5, 6, 7, 8, 9, 'diez']\n"
     ]
    }
   ],
   "source": [
    "lista=[[\"uno\",[\"dos\",\"tres\"]],3,4,5,6,7,8,9,\"diez\"]\n",
    "print(lista)"
   ]
  },
  {
   "cell_type": "markdown",
   "metadata": {},
   "source": [
    "Recorrer una lista"
   ]
  },
  {
   "cell_type": "code",
   "execution_count": 2,
   "metadata": {},
   "outputs": [
    {
     "name": "stdout",
     "output_type": "stream",
     "text": [
      "3\n",
      "uno\n",
      "dos\n",
      "[3, 5, 7, 9]\n"
     ]
    }
   ],
   "source": [
    "lista=[[\"uno\",[\"dos\",\"tres\"]],3,4,5,6,7,8,9,\"diez\"]\n",
    "print(lista[1])\n",
    "print(lista[0][0])\n",
    "print(lista[0][1][0])\n",
    "print(lista[1:9:2]) # recorrer del uno al nueve en saltos de dos"
   ]
  },
  {
   "cell_type": "markdown",
   "metadata": {},
   "source": [
    "Iterar una lista"
   ]
  },
  {
   "cell_type": "code",
   "execution_count": 3,
   "metadata": {},
   "outputs": [
    {
     "name": "stdout",
     "output_type": "stream",
     "text": [
      "['uno', ['dos', 'tres']]\n",
      "3\n",
      "4\n",
      "5\n",
      "6\n",
      "7\n",
      "8\n",
      "9\n",
      "diez\n"
     ]
    }
   ],
   "source": [
    "lista=[[\"uno\",[\"dos\",\"tres\"]],3,4,5,6,7,8,9,\"diez\"]\n",
    "for t in lista:\n",
    "    print(t)"
   ]
  },
  {
   "cell_type": "markdown",
   "metadata": {},
   "source": [
    "Asignar valores"
   ]
  },
  {
   "cell_type": "code",
   "execution_count": 5,
   "metadata": {},
   "outputs": [
    {
     "name": "stdout",
     "output_type": "stream",
     "text": [
      "1 2 3\n"
     ]
    }
   ],
   "source": [
    "l = [1, 2, 3]\n",
    "x, y, z = l\n",
    "print(x,y,z)"
   ]
  },
  {
   "cell_type": "markdown",
   "metadata": {},
   "source": [
    "# Metodos de listas"
   ]
  },
  {
   "cell_type": "markdown",
   "metadata": {},
   "source": [
    "extend() Este método extiende una lista agregando un iterable al final."
   ]
  },
  {
   "cell_type": "code",
   "execution_count": 6,
   "metadata": {},
   "outputs": [
    {
     "name": "stdout",
     "output_type": "stream",
     "text": [
      "[['uno', ['dos', 'tres']], 3, 4, 5, 6, 7, 8, 9, 'diez']\n",
      "[['uno', ['dos', 'tres']], 3, 4, 5, 6, 7, 8, 9, 'diez', 10, 11, 11, 11, 11, 12, 13, 14]\n"
     ]
    }
   ],
   "source": [
    "lista=[[\"uno\",[\"dos\",\"tres\"]],3,4,5,6,7,8,9,\"diez\"]\n",
    "print(lista)\n",
    "lista.extend((10,11,11,11,11,12,13,14))\n",
    "print(lista)\n"
   ]
  },
  {
   "cell_type": "markdown",
   "metadata": {},
   "source": [
    "append() Este método agrega un elemento al final de una lista."
   ]
  },
  {
   "cell_type": "code",
   "execution_count": 7,
   "metadata": {},
   "outputs": [
    {
     "name": "stdout",
     "output_type": "stream",
     "text": [
      "[['uno', ['dos', 'tres']], 3, 4, 5, 6, 7, 8, 9, 'diez']\n",
      "[['uno', ['dos', 'tres']], 3, 4, 5, 6, 7, 8, 9, 'diez', [5, 5]]\n"
     ]
    }
   ],
   "source": [
    "lista=[[\"uno\",[\"dos\",\"tres\"]],3,4,5,6,7,8,9,\"diez\"]\n",
    "print(lista)\n",
    "lista.append([5,5])\n",
    "print(lista)"
   ]
  },
  {
   "cell_type": "markdown",
   "metadata": {},
   "source": [
    "insert() Este método inserta el elemento x en la lista, en el índice i."
   ]
  },
  {
   "cell_type": "code",
   "execution_count": 4,
   "metadata": {},
   "outputs": [
    {
     "name": "stdout",
     "output_type": "stream",
     "text": [
      "[['uno', ['dos', 'tres']], 3, 4, 5, 6, 7, 8, 9, 'diez']\n",
      "[['uno', ['dos', 'tres']], 3, 'Hola', 4, 5, 6, 7, 8, 9, 'diez']\n"
     ]
    }
   ],
   "source": [
    "lista=[[\"uno\",[\"dos\",\"tres\"]],3,4,5,6,7,8,9,\"diez\"]\n",
    "print(lista)\n",
    "lista.insert(2,\"Hola\")\n",
    "print(lista)"
   ]
  },
  {
   "cell_type": "markdown",
   "metadata": {},
   "source": [
    "pop() Este método devuelve el último elemento de la lista, y lo borra de la misma. Opcionalmente puede recibir un argumento numérico, que funciona como índice del elemento (por defecto, -1)"
   ]
  },
  {
   "cell_type": "code",
   "execution_count": 9,
   "metadata": {},
   "outputs": [
    {
     "name": "stdout",
     "output_type": "stream",
     "text": [
      "[['uno', ['dos', 'tres']], 3, 4, 5, 6, 7, 8, 9, 'diez']\n",
      "diez\n",
      "4\n",
      "[['uno', ['dos', 'tres']], 3, 5, 6, 7, 8, 9]\n"
     ]
    }
   ],
   "source": [
    "lista=[[\"uno\",[\"dos\",\"tres\"]],3,4,5,6,7,8,9,\"diez\"]\n",
    "print(lista)\n",
    "print(lista.pop())\n",
    "print(lista.pop(2))\n",
    "print(lista)"
   ]
  },
  {
   "cell_type": "markdown",
   "metadata": {},
   "source": [
    "remove() Este método recibe como argumento un elemento, y borra su primera aparición en la lista. El método devuelve un excepción ValueError si el elemento no se encuentra en la lista."
   ]
  },
  {
   "cell_type": "code",
   "execution_count": 17,
   "metadata": {},
   "outputs": [
    {
     "name": "stdout",
     "output_type": "stream",
     "text": [
      "[['uno', ['dos', 'tres']], 3, 4, 5, 6, 7, 8, 9, 'diez']\n",
      "[['uno', ['dos', 'tres']], 3, 4, 5, 6, 7, 8, 9]\n"
     ]
    }
   ],
   "source": [
    "lista=[[\"uno\",[\"dos\",\"tres\"]],3,4,5,6,7,8,9,\"diez\"]\n",
    "print(lista)\n",
    "lista.remove(\"diez\")\n",
    "print(lista)"
   ]
  },
  {
   "cell_type": "markdown",
   "metadata": {},
   "source": [
    "index() Este método recibe un elemento como argumento, y devuelve el índice de su primera aparición en la lista. El método admite como argumento adicional un índice inicial a partir de donde comenzar la búsqueda, opcionalmente también el índice final. El método devuelve un excepción ValueError si el elemento no se encuentra en la lista, o en el entorno definido."
   ]
  },
  {
   "cell_type": "code",
   "execution_count": 18,
   "metadata": {},
   "outputs": [
    {
     "name": "stdout",
     "output_type": "stream",
     "text": [
      "8\n"
     ]
    }
   ],
   "source": [
    "lista=[[\"uno\",[\"dos\",\"tres\"]],3,4,5,6,7,8,9,\"diez\"]\n",
    "print(lista.index(\"diez\",2))"
   ]
  },
  {
   "cell_type": "markdown",
   "metadata": {},
   "source": [
    "count() Este método recibe un elemento como argumento, y cuenta la cantidad de veces que aparece en la lista."
   ]
  },
  {
   "cell_type": "code",
   "execution_count": 1,
   "metadata": {},
   "outputs": [
    {
     "name": "stdout",
     "output_type": "stream",
     "text": [
      "4\n"
     ]
    }
   ],
   "source": [
    "lista=[10,11,11,11,11,12,13,14]\n",
    "print(lista.count(11))"
   ]
  },
  {
   "cell_type": "markdown",
   "metadata": {},
   "source": [
    "reverse() Este método invierte el orden de los elementos de una lista."
   ]
  },
  {
   "cell_type": "code",
   "execution_count": 21,
   "metadata": {},
   "outputs": [
    {
     "name": "stdout",
     "output_type": "stream",
     "text": [
      "[['uno', ['dos', 'tres']], 3, 4, 5, 6, 7, 8, 9, 'diez']\n",
      "['diez', 9, 8, 7, 6, 5, 4, 3, ['uno', ['dos', 'tres']]]\n"
     ]
    }
   ],
   "source": [
    "lista=[[\"uno\",[\"dos\",\"tres\"]],3,4,5,6,7,8,9,\"diez\"]\n",
    "print(lista)\n",
    "lista.reverse()\n",
    "print(lista)"
   ]
  },
  {
   "cell_type": "markdown",
   "metadata": {},
   "source": [
    "sort() Este método ordena los elementos de una lista."
   ]
  },
  {
   "cell_type": "code",
   "execution_count": 26,
   "metadata": {},
   "outputs": [
    {
     "name": "stdout",
     "output_type": "stream",
     "text": [
      "[9, 12, 14, 15, 21, 25, 34, 36, 45, 52, 54, 78, 96, 98, 654, 785]\n",
      "['a', 'b', 'c', 'e', 'f', 'g', 'i', 'r', 's', 'u', 'y']\n"
     ]
    }
   ],
   "source": [
    "lista_Numeros=[25,15,654,12,98,34,78,96,52,14,45,36,9,54,785,21]\n",
    "lista_Numeros.sort()\n",
    "print(lista_Numeros)\n",
    "\n",
    "lista_Nombres=[\"a\",\"f\",\"g\",\"b\",\"c\",\"r\",\"y\",\"u\",\"i\",\"e\",\"s\"]\n",
    "lista_Nombres.sort()\n",
    "print(lista_Nombres)"
   ]
  },
  {
   "cell_type": "markdown",
   "metadata": {},
   "source": [
    "sorted() Se puede utilizar para ordenar cualquier iterable, no solo listas. Esta función es muy parecida al método sort() pero, a diferencia de este, sí que devuelve una nueva lista."
   ]
  },
  {
   "cell_type": "code",
   "execution_count": 12,
   "metadata": {},
   "outputs": [
    {
     "name": "stdout",
     "output_type": "stream",
     "text": [
      "[9, 12, 14, 15, 21, 25, 34, 36, 45, 52, 54, 78, 96, 98, 654, 785]\n",
      "['a', 'b', 'c', 'e', 'f', 'g', 'i', 'r', 's', 'u', 'y']\n"
     ]
    }
   ],
   "source": [
    "lista_Numeros=[25,15,654,12,98,34,78,96,52,14,45,36,9,54,785,21]\n",
    "numeros=sorted(lista_Numeros)\n",
    "print(numeros)\n",
    "\n",
    "lista_Nombres=[\"a\",\"f\",\"g\",\"b\",\"c\",\"r\",\"y\",\"u\",\"i\",\"e\",\"s\"]\n",
    "nombres=sorted(lista_Nombres)\n",
    "print(nombres)"
   ]
  }
 ],
 "metadata": {
  "interpreter": {
   "hash": "f95b24e7e6bd588e1e57de6300475645bdeabfdd1f807dc57a765782ae4c35d8"
  },
  "kernelspec": {
   "display_name": "Python 3.9.6 64-bit",
   "language": "python",
   "name": "python3"
  },
  "language_info": {
   "codemirror_mode": {
    "name": "ipython",
    "version": 3
   },
   "file_extension": ".py",
   "mimetype": "text/x-python",
   "name": "python",
   "nbconvert_exporter": "python",
   "pygments_lexer": "ipython3",
   "version": "3.9.6"
  },
  "orig_nbformat": 4
 },
 "nbformat": 4,
 "nbformat_minor": 2
}

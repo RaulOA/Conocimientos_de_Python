{
 "cells": [
  {
   "cell_type": "markdown",
   "metadata": {},
   "source": [
    "# Palindromo con Indice"
   ]
  },
  {
   "cell_type": "code",
   "execution_count": 6,
   "metadata": {},
   "outputs": [
    {
     "name": "stdout",
     "output_type": "stream",
     "text": [
      "ana es un palindromo\n"
     ]
    }
   ],
   "source": [
    "def palindromo(palabra):\n",
    "    inversa=palabra[::-1]\n",
    "    if inversa in palabra:\n",
    "        return f\"{palabra} es un palindromo\"\n",
    "    return f\"{palabra} no es un palindromo\"\n",
    "print(palindromo(\"ana\"))"
   ]
  },
  {
   "cell_type": "markdown",
   "metadata": {},
   "source": [
    "# Palindromo con funciones"
   ]
  },
  {
   "cell_type": "code",
   "execution_count": 7,
   "metadata": {},
   "outputs": [
    {
     "name": "stdout",
     "output_type": "stream",
     "text": [
      "ana es un palindromo\n"
     ]
    }
   ],
   "source": [
    "def palindromo(palabra):\n",
    "    inversa=list(palabra)\n",
    "    inversa.reverse()\n",
    "    inversa=\"\".join(inversa)\n",
    "    if inversa==palabra:\n",
    "        return f\"{palabra} es un palindromo\"\n",
    "    return f\"{palabra} no es un palindromo\"\n",
    "print(palindromo(\"ana\"))"
   ]
  },
  {
   "cell_type": "markdown",
   "metadata": {},
   "source": [
    "# Palindromo con Ciclo"
   ]
  },
  {
   "cell_type": "code",
   "execution_count": 8,
   "metadata": {},
   "outputs": [
    {
     "name": "stdout",
     "output_type": "stream",
     "text": [
      "ana es un palindromo\n"
     ]
    }
   ],
   "source": [
    "def palindromo(palabra):\n",
    "    inversa=[]\n",
    "    for i in palabra[::-1]:\n",
    "        inversa.append(i)\n",
    "    inversa=\"\".join(inversa)\n",
    "    if inversa==palabra:\n",
    "        return f\"{palabra} es un palindromo\"\n",
    "    return f\"{palabra} no es un palindromo\"\n",
    "print(palindromo(\"ana\"))"
   ]
  }
 ],
 "metadata": {
  "interpreter": {
   "hash": "f95b24e7e6bd588e1e57de6300475645bdeabfdd1f807dc57a765782ae4c35d8"
  },
  "kernelspec": {
   "display_name": "Python 3.9.6 64-bit",
   "language": "python",
   "name": "python3"
  },
  "language_info": {
   "codemirror_mode": {
    "name": "ipython",
    "version": 3
   },
   "file_extension": ".py",
   "mimetype": "text/x-python",
   "name": "python",
   "nbconvert_exporter": "python",
   "pygments_lexer": "ipython3",
   "version": "3.9.6"
  },
  "orig_nbformat": 4
 },
 "nbformat": 4,
 "nbformat_minor": 2
}

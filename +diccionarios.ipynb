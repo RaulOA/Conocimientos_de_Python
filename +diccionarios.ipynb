{
 "cells": [
  {
   "cell_type": "markdown",
   "metadata": {},
   "source": [
    "# Diccionarios y sus Metodos"
   ]
  },
  {
   "cell_type": "markdown",
   "metadata": {},
   "source": [
    "Declarar diccionario"
   ]
  },
  {
   "cell_type": "code",
   "execution_count": 1,
   "metadata": {},
   "outputs": [
    {
     "name": "stdout",
     "output_type": "stream",
     "text": [
      "{'nombre': 'Carlos', 'edad': 22, 'cursos': ['Python', 'Django', 'JavaScript'], 'Apellido': ['Ortega', 'Acuña']}\n"
     ]
    }
   ],
   "source": [
    "diccionario = {'nombre' : 'Carlos', 'edad' : 22, 'cursos': ['Python','Django','JavaScript'] }\n",
    "diccionario[\"Apellido\"]=[\"Ortega\",\"Acuña\"]\n",
    "print(diccionario)"
   ]
  },
  {
   "cell_type": "markdown",
   "metadata": {},
   "source": [
    "Acceder a los elementos"
   ]
  },
  {
   "cell_type": "code",
   "execution_count": 2,
   "metadata": {},
   "outputs": [
    {
     "name": "stdout",
     "output_type": "stream",
     "text": [
      "Carlos\n",
      "22\n",
      "['Python', 'Django', 'JavaScript']\n"
     ]
    }
   ],
   "source": [
    "diccionario = {'nombre' : 'Carlos', 'edad' : 22, 'cursos': ['Python','Django','JavaScript'] }\n",
    "print (diccionario['nombre'])\n",
    "print (diccionario['edad'])\n",
    "print (diccionario['cursos'])"
   ]
  },
  {
   "cell_type": "markdown",
   "metadata": {},
   "source": [
    "Acceder a los elementos de la lista"
   ]
  },
  {
   "cell_type": "code",
   "execution_count": 3,
   "metadata": {},
   "outputs": [
    {
     "name": "stdout",
     "output_type": "stream",
     "text": [
      "Python\n",
      "Django\n",
      "JavaScript\n"
     ]
    }
   ],
   "source": [
    "diccionario = {'nombre' : 'Carlos', 'edad' : 22, 'cursos': ['Python','Django','JavaScript'] }\n",
    "print (diccionario['cursos'][0])\n",
    "print (diccionario['cursos'][1])\n",
    "print (diccionario['cursos'][2])"
   ]
  },
  {
   "cell_type": "markdown",
   "metadata": {},
   "source": [
    "Recorrer todo el diccionario"
   ]
  },
  {
   "cell_type": "code",
   "execution_count": 6,
   "metadata": {},
   "outputs": [
    {
     "name": "stdout",
     "output_type": "stream",
     "text": [
      "nombre : Carlos\n",
      "edad : 22\n",
      "cursos : ['Python', 'Django', 'JavaScript']\n"
     ]
    }
   ],
   "source": [
    "diccionario = {'nombre' : 'Carlos', 'edad' : 22, 'cursos': ['Python','Django','JavaScript'] }\n",
    "for key in diccionario:\n",
    "    print (key, \":\", diccionario[key])"
   ]
  },
  {
   "cell_type": "markdown",
   "metadata": {},
   "source": [
    "# Metodos"
   ]
  },
  {
   "cell_type": "markdown",
   "metadata": {},
   "source": [
    "dict () Recibe como parámetro una representación de un diccionario y si es factible, devuelve un diccionario de datos."
   ]
  },
  {
   "cell_type": "code",
   "execution_count": 7,
   "metadata": {},
   "outputs": [
    {
     "name": "stdout",
     "output_type": "stream",
     "text": [
      "{'nombre': 'nestor', 'apellido': 'Plasencia', 'edad': 22}\n"
     ]
    }
   ],
   "source": [
    "dic1 =  dict(nombre='nestor', apellido='Plasencia', edad=22)\n",
    "print(dic1)"
   ]
  },
  {
   "cell_type": "markdown",
   "metadata": {},
   "source": [
    "zip() Recibe como parámetro dos elementos iterables, ya sea una cadena, una lista o una tupla. \n",
    "Ambos parámetros deben tener el mismo número de elementos. \n",
    "Se devolverá un diccionario relacionando el elemento i-esimo de cada uno de los iterables."
   ]
  },
  {
   "cell_type": "code",
   "execution_count": 8,
   "metadata": {},
   "outputs": [
    {
     "name": "stdout",
     "output_type": "stream",
     "text": [
      "{'a': 1, 'b': 2, 'c': 3, 'd': 4}\n"
     ]
    }
   ],
   "source": [
    "dic2 = dict(zip('abcd',[1,2,3,4]))\n",
    "print(dic2)"
   ]
  },
  {
   "cell_type": "markdown",
   "metadata": {},
   "source": [
    "items() Devuelve una lista de tuplas, cada tupla se compone de dos elementos: \n",
    "el primero será la clave y el segundo, su valor."
   ]
  },
  {
   "cell_type": "code",
   "execution_count": 9,
   "metadata": {},
   "outputs": [
    {
     "name": "stdout",
     "output_type": "stream",
     "text": [
      "dict_items([('a', 1), ('b', 2), ('c', 3), ('d', 4)])\n"
     ]
    }
   ],
   "source": [
    "dic3 =   {\"a\" : 1, \"b\" : 2, \"c\" : 3 , \"d\" : 4}\n",
    "items = dic3.items()\n",
    "print(items)"
   ]
  },
  {
   "cell_type": "markdown",
   "metadata": {},
   "source": [
    "keys() Retorna una lista de elementos, los cuales serán las claves de nuestro diccionario."
   ]
  },
  {
   "cell_type": "code",
   "execution_count": 10,
   "metadata": {},
   "outputs": [
    {
     "name": "stdout",
     "output_type": "stream",
     "text": [
      "dict_keys(['a', 'b', 'c', 'd'])\n"
     ]
    }
   ],
   "source": [
    "dic4 =  {\"a\" : 1, \"b\" : 2, \"c\" : 3 , \"d\" : 4}\n",
    "keys= dic4.keys()\n",
    "print(keys)"
   ]
  },
  {
   "cell_type": "markdown",
   "metadata": {},
   "source": [
    "values() Retorna una lista de elementos, que serán los valores de nuestro diccionario."
   ]
  },
  {
   "cell_type": "code",
   "execution_count": 1,
   "metadata": {},
   "outputs": [
    {
     "name": "stdout",
     "output_type": "stream",
     "text": [
      "dict_values([1, 2, 3, 4])\n"
     ]
    }
   ],
   "source": [
    "dic5 =  {\"a\" : 1, \"b\" : 2, \"c\" : 3 , \"d\" : 4}\n",
    "values= dic5.values()\n",
    "print(values)"
   ]
  },
  {
   "cell_type": "markdown",
   "metadata": {},
   "source": [
    "clear() Elimina todos los ítems del diccionario dejándolo vacío."
   ]
  },
  {
   "cell_type": "code",
   "execution_count": 2,
   "metadata": {},
   "outputs": [
    {
     "name": "stdout",
     "output_type": "stream",
     "text": [
      "{}\n"
     ]
    }
   ],
   "source": [
    "dic6 =  {\"a\" : 1, \"b\" : 2, \"c\" : 3 , \"d\" : 4}\n",
    "dic6.clear()\n",
    "print(dic6)"
   ]
  },
  {
   "cell_type": "markdown",
   "metadata": {},
   "source": [
    "copy() Retorna una copia del diccionario original."
   ]
  },
  {
   "cell_type": "code",
   "execution_count": 3,
   "metadata": {},
   "outputs": [
    {
     "name": "stdout",
     "output_type": "stream",
     "text": [
      "{'a': 1, 'b': 2, 'c': 3, 'd': 4}\n"
     ]
    }
   ],
   "source": [
    "dic7 =  {\"a\" : 1, \"b\" : 2, \"c\" : 3 , \"d\" : 4}\n",
    "copy = dic7.copy()\n",
    "print(copy)"
   ]
  },
  {
   "cell_type": "markdown",
   "metadata": {},
   "source": [
    "fromkeys() Recibe como parámetros un iterable y un valor, \n",
    "devolviendo un diccionario que contiene como claves los elementos del iterable con el mismo valor ingresado. \n",
    "Si el valor no es ingresado, devolverá none para todas las claves."
   ]
  },
  {
   "cell_type": "code",
   "execution_count": 4,
   "metadata": {},
   "outputs": [
    {
     "name": "stdout",
     "output_type": "stream",
     "text": [
      "{'a': 1, 'b': 1, 'c': 1, 'd': 1}\n"
     ]
    }
   ],
   "source": [
    "dic8 = dict.fromkeys(['a','b','c','d'],1)\n",
    "print(dic8)"
   ]
  },
  {
   "cell_type": "markdown",
   "metadata": {},
   "source": [
    "get() Recibe como parámetro una clave, devuelve el valor de la clave. Si no lo encuentra, devuelve un objeto none."
   ]
  },
  {
   "cell_type": "code",
   "execution_count": 5,
   "metadata": {},
   "outputs": [
    {
     "name": "stdout",
     "output_type": "stream",
     "text": [
      "2\n"
     ]
    }
   ],
   "source": [
    "dic9 = {\"a\" : 1, \"b\" : 2, \"c\" : 3 , \"d\" : 4}\n",
    "valor = dic9.get(\"b\")\n",
    "print(valor)"
   ]
  },
  {
   "cell_type": "markdown",
   "metadata": {},
   "source": [
    "pop() Recibe como parámetro una clave, elimina esta y devuelve su valor. Si no lo encuentra, devuelve error."
   ]
  },
  {
   "cell_type": "code",
   "execution_count": 6,
   "metadata": {},
   "outputs": [
    {
     "name": "stdout",
     "output_type": "stream",
     "text": [
      "2\n",
      "{'a': 1, 'c': 3, 'd': 4}\n"
     ]
    }
   ],
   "source": [
    "dic10 = {\"a\" : 1, \"b\" : 2, \"c\" : 3 , \"d\" : 4}\n",
    "valor = dic10.pop(\"b\") \n",
    "print (valor)\n",
    "print(dic10)"
   ]
  },
  {
   "cell_type": "markdown",
   "metadata": {},
   "source": [
    "setdefault() Funciona de dos formas. En la primera como get\n",
    "Y en la segunda forma, nos sirve para agregar un nuevo elemento a nuestro diccionario."
   ]
  },
  {
   "cell_type": "code",
   "execution_count": 8,
   "metadata": {},
   "outputs": [
    {
     "name": "stdout",
     "output_type": "stream",
     "text": [
      "1\n",
      "5\n",
      "{'a': 1, 'b': 2, 'c': 3, 'd': 4, 'e': 5}\n"
     ]
    }
   ],
   "source": [
    "dic11 = {\"a\" : 1, \"b\" : 2, \"c\" : 3 , \"d\" : 4}\n",
    "valor2 = dic11.setdefault(\"a\")\n",
    "print(valor2)\n",
    "\n",
    "valor3 = dic11.setdefault(\"e\",5)\n",
    "print(valor3)\n",
    "print(dic11)"
   ]
  },
  {
   "cell_type": "markdown",
   "metadata": {},
   "source": [
    "update() Recibe como parámetro otro diccionario. Si se tienen claves iguales, \n",
    "actualiza el valor de la clave repetida; si no hay claves iguales, este par clave-valor es agregado al diccionario."
   ]
  },
  {
   "cell_type": "code",
   "execution_count": 9,
   "metadata": {},
   "outputs": [
    {
     "name": "stdout",
     "output_type": "stream",
     "text": [
      "{'a': 1, 'b': 2, 'c': 3, 'd': 4}\n",
      "{'a': 1, 'b': 5, 'c': 6, 'd': 4, 'e': 9, 'f': 10}\n"
     ]
    }
   ],
   "source": [
    "dic12 = {\"a\" : 1, \"b\" : 2, \"c\" : 3 , \"d\" : 4}\n",
    "dic13 = {\"c\" : 6, \"b\" : 5, \"e\" : 9 , \"f\" : 10}\n",
    "print(dic12)\n",
    "dic12.update(dic13)\n",
    "print(dic12)"
   ]
  }
 ],
 "metadata": {
  "interpreter": {
   "hash": "f95b24e7e6bd588e1e57de6300475645bdeabfdd1f807dc57a765782ae4c35d8"
  },
  "kernelspec": {
   "display_name": "Python 3.9.6 64-bit",
   "language": "python",
   "name": "python3"
  },
  "language_info": {
   "codemirror_mode": {
    "name": "ipython",
    "version": 3
   },
   "file_extension": ".py",
   "mimetype": "text/x-python",
   "name": "python",
   "nbconvert_exporter": "python",
   "pygments_lexer": "ipython3",
   "version": "3.9.6"
  },
  "orig_nbformat": 4
 },
 "nbformat": 4,
 "nbformat_minor": 2
}
